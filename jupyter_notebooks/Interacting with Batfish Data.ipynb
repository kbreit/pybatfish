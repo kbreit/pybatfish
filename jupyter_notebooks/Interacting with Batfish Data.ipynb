{
  "nbformat": 4,
  "nbformat_minor": 0,
  "metadata": {
    "colab": {
      "name": "Getting started with Batfish.ipynb",
      "version": "0.3.2",
      "provenance": []
    },
    "language_info": {
      "codemirror_mode": {
        "name": "ipython",
        "version": 3
      },
      "file_extension": ".py",
      "mimetype": "text/x-python",
      "name": "python",
      "nbconvert_exporter": "python",
      "pygments_lexer": "ipython3",
      "version": "3.7.2"
    },
    "kernelspec": {
      "display_name": "Python 3",
      "language": "python",
      "name": "python3"
    }
  },
  "cells": [
    {
      "cell_type": "markdown",
      "metadata": {
        "id": "iP_XKtA0fDde",
        "colab_type": "text"
      },
      "source": [
        "## Getting Started with Batfish\n",
        "\n",
        "This notebook uses pybatfish, a Python-based SDK for Batfish, to analyze a sample network. It shows how to submit your configurations and other network data for analysis and how to query its vendor-neutral network model. [Other notebooks](https://github.com/batfish/pybatfish/tree/master/jupyter_notebooks) show how to use Batfish for different types of network validation tasks. \n",
        "\n",
        "Check out a video demo of this notebook [here](https://www.youtube.com/watch?v=Ca7kPAtfFqo).\n",
        "\n",
        "### Initializing a Network and Snapshot\n",
        "\n",
        "A *network* is a logical group of routers and links. It can be your entire network or a subset of it. A *snapshot* is a collection of information (configuration files, routing data, up/down status of nodes and links) that represent the network state. Snapshots can contain the actual state of the network or candidate states (e.g, those corresponding to a planned change) that you want to analyze.\n",
        "\n",
        "![Analytics](https://ga-beacon.appspot.com/UA-100596389-3/open-source/pybatfish/jupyter_notebooks/getting-started?pixel&useReferer)**\\*\\*Make sure that the Batfish service is running locally before running the cells below.\\*\\***"
      ]
    },
    {
      "cell_type": "code",
      "metadata": {
        "id": "I1bBw3SDfDdh",
        "colab_type": "code",
        "colab": {}
      },
      "source": [
        "# Import packages and load questions\n",
        "%run startup.py\n",
        "load_questions()"
      ],
      "execution_count": 0,
      "outputs": []
    },
    {
      "cell_type": "markdown",
      "metadata": {
        "id": "CcwIqrwefDdo",
        "colab_type": "text"
      },
      "source": [
        "`SNAPSHOT_PATH` below can be updated to point to a custom snapshot directory, see the [Batfish instructions](https://github.com/batfish/batfish/wiki/Packaging-snapshots-for-analysis) for how to package data for analysis.<br>\n",
        "More example networks are available in the [networks](https://github.com/batfish/batfish/tree/master/networks) folder of the Batfish repository."
      ]
    },
    {
      "cell_type": "code",
      "metadata": {
        "scrolled": false,
        "id": "TZMdgXYHfDdp",
        "colab_type": "code",
        "colab": {},
        "outputId": "dfb2e9c8-847c-4558-f8b4-22f26f4ed8d5"
      },
      "source": [
        "# Assign a friendly name to your network and snapshot\n",
        "NETWORK_NAME = \"example_network\"\n",
        "SNAPSHOT_NAME = \"example_snapshot\"\n",
        "\n",
        "SNAPSHOT_PATH = \"networks/example\"\n",
        "\n",
        "# Now create the network and initialize the snapshot\n",
        "bf_set_network(NETWORK_NAME)\n",
        "bf_init_snapshot(SNAPSHOT_PATH, name=SNAPSHOT_NAME, overwrite=True)"
      ],
      "execution_count": 0,
      "outputs": [
        {
          "output_type": "execute_result",
          "data": {
            "text/plain": [
              "'example_snapshot'"
            ]
          },
          "metadata": {
            "tags": []
          },
          "execution_count": 2
        }
      ]
    },
    {
      "cell_type": "markdown",
      "metadata": {
        "id": "hxWOOE_SfDd3",
        "colab_type": "text"
      },
      "source": [
        "If you used the example we provided, the network you initialized above is illustrated below. You can download/view devices' configuration files [here](https://github.com/batfish/pybatfish/tree/master/jupyter_notebooks/networks/example).\n",
        "\n",
        "![example-network](https://raw.githubusercontent.com/batfish/pybatfish/master/jupyter_notebooks/networks/example/example-network.png)\n",
        "\n",
        "***"
      ]
    },
    {
      "cell_type": "markdown",
      "metadata": {
        "id": "g61og7uDfDd4",
        "colab_type": "text"
      },
      "source": [
        "### Querying the Network Model\n",
        "\n",
        "Batfish creates a comprehensive vendor-neutral device and network model which can be queried for information about devices, interfaces, VRFs, routes, etc. It offers a set of *questions*  to query this model."
      ]
    },
    {
      "cell_type": "code",
      "metadata": {
        "id": "u8LruN_FfDd5",
        "colab_type": "code",
        "colab": {}
      },
      "source": [
        "# Load all questions\n",
        "load_questions()\n",
        "\n",
        "# To see available questions, you can use\n",
        "# list_questions()\n",
        "\n",
        "# You can also use tab-completion on the Batfish question module - bfq. -> press TAB key,\n",
        "# uncomment and try on the following line\n",
        "# bfq.\n",
        "\n",
        "# In IPython and Jupyter you can use the \"?\" shorthand to get help on a question\n",
        "?bfq.nodeProperties\n",
        "\n",
        "# help(bfq.nodeProperties) # in standard Python console"
      ],
      "execution_count": 0,
      "outputs": []
    },
    {
      "cell_type": "markdown",
      "metadata": {
        "id": "0vFVicXBfDd8",
        "colab_type": "text"
      },
      "source": [
        "***\n",
        "\n",
        "### Getting status of parsed files\n",
        "\n",
        "Batfish may ignore certain lines in the configuration. To retrieve the parsing status of snapshot files, use the `fileParseStatus()` question."
      ]
    },
    {
      "cell_type": "code",
      "metadata": {
        "id": "wuPmgVgSfDd9",
        "colab_type": "code",
        "colab": {}
      },
      "source": [
        "parse_status = bfq.fileParseStatus().answer().frame()"
      ],
      "execution_count": 0,
      "outputs": []
    },
    {
      "cell_type": "markdown",
      "metadata": {
        "id": "nYrRT97hfDeA",
        "colab_type": "text"
      },
      "source": [
        "`answer()` runs the question and returns the answer in a JSON format. \n",
        "\n",
        "`frame()` wraps the answer as [pandas dataframe](https://pandas.pydata.org/pandas-docs/stable/generated/pandas.DataFrame.html)."
      ]
    },
    {
      "cell_type": "code",
      "metadata": {
        "id": "B06AwfWqfDeB",
        "colab_type": "code",
        "colab": {},
        "outputId": "e3ef3871-380f-4dc7-c48a-1f90c1221d60"
      },
      "source": [
        "# View the parse status results\n",
        "parse_status"
      ],
      "execution_count": 0,
      "outputs": [
        {
          "output_type": "execute_result",
          "data": {
            "text/html": [
              "<div>\n",
              "<style scoped>\n",
              "    .dataframe tbody tr th:only-of-type {\n",
              "        vertical-align: middle;\n",
              "    }\n",
              "\n",
              "    .dataframe tbody tr th {\n",
              "        vertical-align: top;\n",
              "    }\n",
              "\n",
              "    .dataframe thead th {\n",
              "        text-align: right;\n",
              "    }\n",
              "</style>\n",
              "<table border=\"1\" class=\"dataframe tex2jax_ignore\">\n",
              "  <thead>\n",
              "    <tr style=\"text-align: right;\">\n",
              "      <th></th>\n",
              "      <th>File_Name</th>\n",
              "      <th>Status</th>\n",
              "      <th>Nodes</th>\n",
              "    </tr>\n",
              "  </thead>\n",
              "  <tbody>\n",
              "    <tr>\n",
              "      <th>0</th>\n",
              "      <td>configs/as1border1.cfg</td>\n",
              "      <td>PASSED</td>\n",
              "      <td>['as1border1']</td>\n",
              "    </tr>\n",
              "    <tr>\n",
              "      <th>1</th>\n",
              "      <td>configs/as1border2.cfg</td>\n",
              "      <td>PASSED</td>\n",
              "      <td>['as1border2']</td>\n",
              "    </tr>\n",
              "    <tr>\n",
              "      <th>2</th>\n",
              "      <td>configs/as1core1.cfg</td>\n",
              "      <td>PASSED</td>\n",
              "      <td>['as1core1']</td>\n",
              "    </tr>\n",
              "    <tr>\n",
              "      <th>3</th>\n",
              "      <td>configs/as2border1.cfg</td>\n",
              "      <td>PASSED</td>\n",
              "      <td>['as2border1']</td>\n",
              "    </tr>\n",
              "    <tr>\n",
              "      <th>4</th>\n",
              "      <td>configs/as2border2.cfg</td>\n",
              "      <td>PASSED</td>\n",
              "      <td>['as2border2']</td>\n",
              "    </tr>\n",
              "    <tr>\n",
              "      <th>5</th>\n",
              "      <td>configs/as2core1.cfg</td>\n",
              "      <td>PASSED</td>\n",
              "      <td>['as2core1']</td>\n",
              "    </tr>\n",
              "    <tr>\n",
              "      <th>6</th>\n",
              "      <td>configs/as2core2.cfg</td>\n",
              "      <td>PASSED</td>\n",
              "      <td>['as2core2']</td>\n",
              "    </tr>\n",
              "    <tr>\n",
              "      <th>7</th>\n",
              "      <td>configs/as2dept1.cfg</td>\n",
              "      <td>PASSED</td>\n",
              "      <td>['as2dept1']</td>\n",
              "    </tr>\n",
              "    <tr>\n",
              "      <th>8</th>\n",
              "      <td>configs/as2dist1.cfg</td>\n",
              "      <td>PASSED</td>\n",
              "      <td>['as2dist1']</td>\n",
              "    </tr>\n",
              "    <tr>\n",
              "      <th>9</th>\n",
              "      <td>configs/as2dist2.cfg</td>\n",
              "      <td>PASSED</td>\n",
              "      <td>['as2dist2']</td>\n",
              "    </tr>\n",
              "    <tr>\n",
              "      <th>10</th>\n",
              "      <td>configs/as3border1.cfg</td>\n",
              "      <td>PASSED</td>\n",
              "      <td>['as3border1']</td>\n",
              "    </tr>\n",
              "    <tr>\n",
              "      <th>11</th>\n",
              "      <td>configs/as3border2.cfg</td>\n",
              "      <td>PASSED</td>\n",
              "      <td>['as3border2']</td>\n",
              "    </tr>\n",
              "    <tr>\n",
              "      <th>12</th>\n",
              "      <td>configs/as3core1.cfg</td>\n",
              "      <td>PASSED</td>\n",
              "      <td>['as3core1']</td>\n",
              "    </tr>\n",
              "    <tr>\n",
              "      <th>13</th>\n",
              "      <td>hosts/host1.json</td>\n",
              "      <td>PASSED</td>\n",
              "      <td>['host1']</td>\n",
              "    </tr>\n",
              "    <tr>\n",
              "      <th>14</th>\n",
              "      <td>hosts/host2.json</td>\n",
              "      <td>PASSED</td>\n",
              "      <td>['host2']</td>\n",
              "    </tr>\n",
              "    <tr>\n",
              "      <th>15</th>\n",
              "      <td>iptables/host1.iptables</td>\n",
              "      <td>PASSED</td>\n",
              "      <td>['iptables/host1.iptables']</td>\n",
              "    </tr>\n",
              "    <tr>\n",
              "      <th>16</th>\n",
              "      <td>iptables/host2.iptables</td>\n",
              "      <td>PASSED</td>\n",
              "      <td>['iptables/host2.iptables']</td>\n",
              "    </tr>\n",
              "  </tbody>\n",
              "</table>\n",
              "</div>"
            ],
            "text/plain": [
              "                  File_Name  Status                        Nodes\n",
              "0   configs/as1border1.cfg   PASSED  ['as1border1']             \n",
              "1   configs/as1border2.cfg   PASSED  ['as1border2']             \n",
              "2   configs/as1core1.cfg     PASSED  ['as1core1']               \n",
              "3   configs/as2border1.cfg   PASSED  ['as2border1']             \n",
              "4   configs/as2border2.cfg   PASSED  ['as2border2']             \n",
              "5   configs/as2core1.cfg     PASSED  ['as2core1']               \n",
              "6   configs/as2core2.cfg     PASSED  ['as2core2']               \n",
              "7   configs/as2dept1.cfg     PASSED  ['as2dept1']               \n",
              "8   configs/as2dist1.cfg     PASSED  ['as2dist1']               \n",
              "9   configs/as2dist2.cfg     PASSED  ['as2dist2']               \n",
              "10  configs/as3border1.cfg   PASSED  ['as3border1']             \n",
              "11  configs/as3border2.cfg   PASSED  ['as3border2']             \n",
              "12  configs/as3core1.cfg     PASSED  ['as3core1']               \n",
              "13  hosts/host1.json         PASSED  ['host1']                  \n",
              "14  hosts/host2.json         PASSED  ['host2']                  \n",
              "15  iptables/host1.iptables  PASSED  ['iptables/host1.iptables']\n",
              "16  iptables/host2.iptables  PASSED  ['iptables/host2.iptables']"
            ]
          },
          "metadata": {
            "tags": []
          },
          "execution_count": 5
        }
      ]
    },
    {
      "cell_type": "markdown",
      "metadata": {
        "id": "Bg947jaYfDeH",
        "colab_type": "text"
      },
      "source": [
        "Additional post-processing can be done on this data, like filtering for values in one or multiple columns, reducing the number of columns, etc. using pandas. A tutorial on pandas-based filtering is [here](http://nbviewer.jupyter.org/github/jvns/pandas-cookbook/blob/v0.2/cookbook/Chapter%203%20-%20Which%20borough%20has%20the%20most%20noise%20complaints%20%28or%2C%20more%20selecting%20data%29.ipynb)."
      ]
    },
    {
      "cell_type": "code",
      "metadata": {
        "id": "OajZyJ_HfDeJ",
        "colab_type": "code",
        "colab": {},
        "outputId": "f6247ba0-f7dc-49a8-c544-39b5af15e21a"
      },
      "source": [
        "# An example: use a filter on the returned dataframe to see which files failed to parse completely\n",
        "parse_status[parse_status['Status'] != 'PASSED']  # change '!=' to '==' to get the files which passed"
      ],
      "execution_count": 0,
      "outputs": [
        {
          "output_type": "execute_result",
          "data": {
            "text/html": [
              "<div>\n",
              "<style scoped>\n",
              "    .dataframe tbody tr th:only-of-type {\n",
              "        vertical-align: middle;\n",
              "    }\n",
              "\n",
              "    .dataframe tbody tr th {\n",
              "        vertical-align: top;\n",
              "    }\n",
              "\n",
              "    .dataframe thead th {\n",
              "        text-align: right;\n",
              "    }\n",
              "</style>\n",
              "<table border=\"1\" class=\"dataframe tex2jax_ignore\">\n",
              "  <thead>\n",
              "    <tr style=\"text-align: right;\">\n",
              "      <th></th>\n",
              "      <th>File_Name</th>\n",
              "      <th>Status</th>\n",
              "      <th>Nodes</th>\n",
              "    </tr>\n",
              "  </thead>\n",
              "  <tbody>\n",
              "  </tbody>\n",
              "</table>\n",
              "</div>"
            ],
            "text/plain": [
              "Empty DataFrame\n",
              "Columns: [File_Name, Status, Nodes]\n",
              "Index: []"
            ]
          },
          "metadata": {
            "tags": []
          },
          "execution_count": 6
        }
      ]
    },
    {
      "cell_type": "code",
      "metadata": {
        "id": "0sMqverffDeO",
        "colab_type": "code",
        "colab": {},
        "outputId": "570f8ec2-4aca-4263-b69e-f93d1d0f1db4"
      },
      "source": [
        "# View details if some of the files were not parsed completely\n",
        "parse_warning = bfq.parseWarning().answer().frame()\n",
        "\n",
        "parse_warning"
      ],
      "execution_count": 0,
      "outputs": [
        {
          "output_type": "execute_result",
          "data": {
            "text/html": [
              "<div>\n",
              "<style scoped>\n",
              "    .dataframe tbody tr th:only-of-type {\n",
              "        vertical-align: middle;\n",
              "    }\n",
              "\n",
              "    .dataframe tbody tr th {\n",
              "        vertical-align: top;\n",
              "    }\n",
              "\n",
              "    .dataframe thead th {\n",
              "        text-align: right;\n",
              "    }\n",
              "</style>\n",
              "<table border=\"1\" class=\"dataframe tex2jax_ignore\">\n",
              "  <thead>\n",
              "    <tr style=\"text-align: right;\">\n",
              "      <th></th>\n",
              "      <th>Filename</th>\n",
              "      <th>Text</th>\n",
              "      <th>Line</th>\n",
              "      <th>Parser_Context</th>\n",
              "      <th>Comment</th>\n",
              "    </tr>\n",
              "  </thead>\n",
              "  <tbody>\n",
              "  </tbody>\n",
              "</table>\n",
              "</div>"
            ],
            "text/plain": [
              "Empty DataFrame\n",
              "Columns: [Filename, Text, Line, Parser_Context, Comment]\n",
              "Index: []"
            ]
          },
          "metadata": {
            "tags": []
          },
          "execution_count": 7
        }
      ]
    },
    {
      "cell_type": "markdown",
      "metadata": {
        "id": "vErt9-cDfDeS",
        "colab_type": "text"
      },
      "source": [
        "***\n",
        "### Extracting properties of network entities\n",
        "Entities in the network refer to things like nodes, interfaces, routing processes, and VRFs. Batfish makes it trivial to extract configured properties of such entities in a vendor neutral manner. \n",
        "\n",
        "##### Node properties\n",
        "The nodeProperties question extracts information on nodes in the snapshot."
      ]
    },
    {
      "cell_type": "code",
      "metadata": {
        "id": "ryTPzyUzfDeT",
        "colab_type": "code",
        "colab": {}
      },
      "source": [
        "# Extract the properties of all nodes whose names contain 'border'\n",
        "node_properties = bfq.nodeProperties(nodes=\"/border/\").answer().frame()"
      ],
      "execution_count": 0,
      "outputs": []
    },
    {
      "cell_type": "code",
      "metadata": {
        "id": "RrS15WyWfDeX",
        "colab_type": "code",
        "colab": {},
        "outputId": "09d5185a-bb75-494c-fb4e-7dead6a02247"
      },
      "source": [
        "# View what columns (properties) are present in the answer\n",
        "node_properties.columns"
      ],
      "execution_count": 0,
      "outputs": [
        {
          "output_type": "execute_result",
          "data": {
            "text/plain": [
              "Index(['Node', 'AS_Path_Access_Lists', 'Authentication_Key_Chains',\n",
              "       'Community_Lists', 'Configuration_Format', 'Default_Cross_Zone_Action',\n",
              "       'Default_Inbound_Action', 'Device_Type', 'DNS_Servers',\n",
              "       'DNS_Source_Interface', 'Domain_Name', 'Hostname', 'IKE_Phase1_Keys',\n",
              "       'IKE_Phase1_Policies', 'IKE_Phase1_Proposals', 'Interfaces',\n",
              "       'IP_Access_Lists', 'IP6_Access_Lists', 'IPsec_Peer_Configs',\n",
              "       'IPsec_Phase2_Policies', 'IPsec_Phase2_Proposals', 'Logging_Servers',\n",
              "       'Logging_Source_Interface', 'NTP_Servers', 'NTP_Source_Interface',\n",
              "       'PBR_Policies', 'Route_Filter_Lists', 'Route6_Filter_Lists',\n",
              "       'Routing_Policies', 'SNMP_Source_Interface', 'SNMP_Trap_Servers',\n",
              "       'TACACS_Servers', 'TACACS_Source_Interface', 'Vendor_Family', 'VRFs',\n",
              "       'Zones'],\n",
              "      dtype='object')"
            ]
          },
          "metadata": {
            "tags": []
          },
          "execution_count": 9
        }
      ]
    },
    {
      "cell_type": "code",
      "metadata": {
        "id": "kypum7DgfDec",
        "colab_type": "code",
        "colab": {},
        "outputId": "2f17f9ad-d394-42fc-a36a-aa7571904007"
      },
      "source": [
        "# To extract only a subset of properties, use the properties parameter\n",
        "node_properties_trunc = bfq.nodeProperties(nodes=\"/border/\", properties=\"Domain_Name|NTP_Servers|Interfaces\").answer().frame()\n",
        "\n",
        "node_properties_trunc"
      ],
      "execution_count": 0,
      "outputs": [
        {
          "output_type": "execute_result",
          "data": {
            "text/html": [
              "<div>\n",
              "<style scoped>\n",
              "    .dataframe tbody tr th:only-of-type {\n",
              "        vertical-align: middle;\n",
              "    }\n",
              "\n",
              "    .dataframe tbody tr th {\n",
              "        vertical-align: top;\n",
              "    }\n",
              "\n",
              "    .dataframe thead th {\n",
              "        text-align: right;\n",
              "    }\n",
              "</style>\n",
              "<table border=\"1\" class=\"dataframe tex2jax_ignore\">\n",
              "  <thead>\n",
              "    <tr style=\"text-align: right;\">\n",
              "      <th></th>\n",
              "      <th>Node</th>\n",
              "      <th>Domain_Name</th>\n",
              "      <th>Interfaces</th>\n",
              "      <th>NTP_Servers</th>\n",
              "    </tr>\n",
              "  </thead>\n",
              "  <tbody>\n",
              "    <tr>\n",
              "      <th>0</th>\n",
              "      <td>as2border2</td>\n",
              "      <td>lab.local</td>\n",
              "      <td>['Ethernet0/0', 'GigabitEthernet0/0', 'GigabitEthernet1/0', 'GigabitEthernet2/0', 'Loopback0']</td>\n",
              "      <td>['18.18.18.18']</td>\n",
              "    </tr>\n",
              "    <tr>\n",
              "      <th>1</th>\n",
              "      <td>as3border1</td>\n",
              "      <td>lab.local</td>\n",
              "      <td>['Ethernet0/0', 'GigabitEthernet0/0', 'GigabitEthernet1/0', 'Loopback0']</td>\n",
              "      <td>['18.18.18.18', '23.23.23.23']</td>\n",
              "    </tr>\n",
              "    <tr>\n",
              "      <th>2</th>\n",
              "      <td>as3border2</td>\n",
              "      <td>lab.local</td>\n",
              "      <td>['Ethernet0/0', 'GigabitEthernet0/0', 'GigabitEthernet1/0', 'Loopback0']</td>\n",
              "      <td>['18.18.18.18', '23.23.23.23']</td>\n",
              "    </tr>\n",
              "    <tr>\n",
              "      <th>3</th>\n",
              "      <td>as1border2</td>\n",
              "      <td>lab.local</td>\n",
              "      <td>['Ethernet0/0', 'GigabitEthernet0/0', 'GigabitEthernet1/0', 'GigabitEthernet2/0', 'Loopback0']</td>\n",
              "      <td>['18.18.18.18', '23.23.23.23']</td>\n",
              "    </tr>\n",
              "    <tr>\n",
              "      <th>4</th>\n",
              "      <td>as2border1</td>\n",
              "      <td>lab.local</td>\n",
              "      <td>['Ethernet0/0', 'GigabitEthernet0/0', 'GigabitEthernet1/0', 'GigabitEthernet2/0', 'Loopback0']</td>\n",
              "      <td>['18.18.18.18', '23.23.23.23']</td>\n",
              "    </tr>\n",
              "    <tr>\n",
              "      <th>5</th>\n",
              "      <td>as1border1</td>\n",
              "      <td>lab.local</td>\n",
              "      <td>['Ethernet0/0', 'GigabitEthernet0/0', 'GigabitEthernet1/0', 'Loopback0']</td>\n",
              "      <td>[]</td>\n",
              "    </tr>\n",
              "  </tbody>\n",
              "</table>\n",
              "</div>"
            ],
            "text/plain": [
              "         Node Domain_Name  \\\n",
              "0  as2border2  lab.local    \n",
              "1  as3border1  lab.local    \n",
              "2  as3border2  lab.local    \n",
              "3  as1border2  lab.local    \n",
              "4  as2border1  lab.local    \n",
              "5  as1border1  lab.local    \n",
              "\n",
              "                                                                                       Interfaces  \\\n",
              "0  ['Ethernet0/0', 'GigabitEthernet0/0', 'GigabitEthernet1/0', 'GigabitEthernet2/0', 'Loopback0']   \n",
              "1  ['Ethernet0/0', 'GigabitEthernet0/0', 'GigabitEthernet1/0', 'Loopback0']                         \n",
              "2  ['Ethernet0/0', 'GigabitEthernet0/0', 'GigabitEthernet1/0', 'Loopback0']                         \n",
              "3  ['Ethernet0/0', 'GigabitEthernet0/0', 'GigabitEthernet1/0', 'GigabitEthernet2/0', 'Loopback0']   \n",
              "4  ['Ethernet0/0', 'GigabitEthernet0/0', 'GigabitEthernet1/0', 'GigabitEthernet2/0', 'Loopback0']   \n",
              "5  ['Ethernet0/0', 'GigabitEthernet0/0', 'GigabitEthernet1/0', 'Loopback0']                         \n",
              "\n",
              "                      NTP_Servers  \n",
              "0  ['18.18.18.18']                 \n",
              "1  ['18.18.18.18', '23.23.23.23']  \n",
              "2  ['18.18.18.18', '23.23.23.23']  \n",
              "3  ['18.18.18.18', '23.23.23.23']  \n",
              "4  ['18.18.18.18', '23.23.23.23']  \n",
              "5  []                              "
            ]
          },
          "metadata": {
            "tags": []
          },
          "execution_count": 10
        }
      ]
    },
    {
      "cell_type": "markdown",
      "metadata": {
        "id": "3JFC3Xn9fDeh",
        "colab_type": "text"
      },
      "source": [
        "An alternative (client-side) way to restrict the list of columns displayed is to use pandas-based column filtering ([pandas tutorial](http://nbviewer.jupyter.org/github/jvns/pandas-cookbook/blob/v0.2/cookbook/Chapter%202%20-%20Selecting%20data%20%26%20finding%20the%20most%20common%20complaint%20type.ipynb))."
      ]
    },
    {
      "cell_type": "code",
      "metadata": {
        "id": "2ySQRyt9fDei",
        "colab_type": "code",
        "colab": {},
        "outputId": "e98edaf4-774f-474e-b00b-a9919366668e"
      },
      "source": [
        "# Let's remove the interfaces column from our result\n",
        "node_properties_trunc = node_properties_trunc[[\"Node\", \"Domain_Name\", \"NTP_Servers\"]]\n",
        "\n",
        "node_properties_trunc"
      ],
      "execution_count": 0,
      "outputs": [
        {
          "output_type": "execute_result",
          "data": {
            "text/html": [
              "<div>\n",
              "<style scoped>\n",
              "    .dataframe tbody tr th:only-of-type {\n",
              "        vertical-align: middle;\n",
              "    }\n",
              "\n",
              "    .dataframe tbody tr th {\n",
              "        vertical-align: top;\n",
              "    }\n",
              "\n",
              "    .dataframe thead th {\n",
              "        text-align: right;\n",
              "    }\n",
              "</style>\n",
              "<table border=\"1\" class=\"dataframe tex2jax_ignore\">\n",
              "  <thead>\n",
              "    <tr style=\"text-align: right;\">\n",
              "      <th></th>\n",
              "      <th>Node</th>\n",
              "      <th>Domain_Name</th>\n",
              "      <th>NTP_Servers</th>\n",
              "    </tr>\n",
              "  </thead>\n",
              "  <tbody>\n",
              "    <tr>\n",
              "      <th>0</th>\n",
              "      <td>as2border2</td>\n",
              "      <td>lab.local</td>\n",
              "      <td>['18.18.18.18']</td>\n",
              "    </tr>\n",
              "    <tr>\n",
              "      <th>1</th>\n",
              "      <td>as3border1</td>\n",
              "      <td>lab.local</td>\n",
              "      <td>['18.18.18.18', '23.23.23.23']</td>\n",
              "    </tr>\n",
              "    <tr>\n",
              "      <th>2</th>\n",
              "      <td>as3border2</td>\n",
              "      <td>lab.local</td>\n",
              "      <td>['18.18.18.18', '23.23.23.23']</td>\n",
              "    </tr>\n",
              "    <tr>\n",
              "      <th>3</th>\n",
              "      <td>as1border2</td>\n",
              "      <td>lab.local</td>\n",
              "      <td>['18.18.18.18', '23.23.23.23']</td>\n",
              "    </tr>\n",
              "    <tr>\n",
              "      <th>4</th>\n",
              "      <td>as2border1</td>\n",
              "      <td>lab.local</td>\n",
              "      <td>['18.18.18.18', '23.23.23.23']</td>\n",
              "    </tr>\n",
              "    <tr>\n",
              "      <th>5</th>\n",
              "      <td>as1border1</td>\n",
              "      <td>lab.local</td>\n",
              "      <td>[]</td>\n",
              "    </tr>\n",
              "  </tbody>\n",
              "</table>\n",
              "</div>"
            ],
            "text/plain": [
              "         Node Domain_Name                     NTP_Servers\n",
              "0  as2border2  lab.local   ['18.18.18.18']               \n",
              "1  as3border1  lab.local   ['18.18.18.18', '23.23.23.23']\n",
              "2  as3border2  lab.local   ['18.18.18.18', '23.23.23.23']\n",
              "3  as1border2  lab.local   ['18.18.18.18', '23.23.23.23']\n",
              "4  as2border1  lab.local   ['18.18.18.18', '23.23.23.23']\n",
              "5  as1border1  lab.local   []                            "
            ]
          },
          "metadata": {
            "tags": []
          },
          "execution_count": 11
        }
      ]
    },
    {
      "cell_type": "markdown",
      "metadata": {
        "id": "AQSazZVVfDeo",
        "colab_type": "text"
      },
      "source": [
        "You can add additional filters to restrict entries based on values of columns."
      ]
    },
    {
      "cell_type": "code",
      "metadata": {
        "id": "JNbaD72vfDep",
        "colab_type": "code",
        "colab": {},
        "outputId": "fdc184ca-6ef3-451e-c194-e01750d57412"
      },
      "source": [
        "# View only nodes with **23.23.23.23** as one of the configured ntp-servers\n",
        "node_properties_trunc[node_properties_trunc['NTP_Servers'].apply(lambda x:'23.23.23.23' in x)]"
      ],
      "execution_count": 0,
      "outputs": [
        {
          "output_type": "execute_result",
          "data": {
            "text/html": [
              "<div>\n",
              "<style scoped>\n",
              "    .dataframe tbody tr th:only-of-type {\n",
              "        vertical-align: middle;\n",
              "    }\n",
              "\n",
              "    .dataframe tbody tr th {\n",
              "        vertical-align: top;\n",
              "    }\n",
              "\n",
              "    .dataframe thead th {\n",
              "        text-align: right;\n",
              "    }\n",
              "</style>\n",
              "<table border=\"1\" class=\"dataframe tex2jax_ignore\">\n",
              "  <thead>\n",
              "    <tr style=\"text-align: right;\">\n",
              "      <th></th>\n",
              "      <th>Node</th>\n",
              "      <th>Domain_Name</th>\n",
              "      <th>NTP_Servers</th>\n",
              "    </tr>\n",
              "  </thead>\n",
              "  <tbody>\n",
              "    <tr>\n",
              "      <th>1</th>\n",
              "      <td>as3border1</td>\n",
              "      <td>lab.local</td>\n",
              "      <td>['18.18.18.18', '23.23.23.23']</td>\n",
              "    </tr>\n",
              "    <tr>\n",
              "      <th>2</th>\n",
              "      <td>as3border2</td>\n",
              "      <td>lab.local</td>\n",
              "      <td>['18.18.18.18', '23.23.23.23']</td>\n",
              "    </tr>\n",
              "    <tr>\n",
              "      <th>3</th>\n",
              "      <td>as1border2</td>\n",
              "      <td>lab.local</td>\n",
              "      <td>['18.18.18.18', '23.23.23.23']</td>\n",
              "    </tr>\n",
              "    <tr>\n",
              "      <th>4</th>\n",
              "      <td>as2border1</td>\n",
              "      <td>lab.local</td>\n",
              "      <td>['18.18.18.18', '23.23.23.23']</td>\n",
              "    </tr>\n",
              "  </tbody>\n",
              "</table>\n",
              "</div>"
            ],
            "text/plain": [
              "         Node Domain_Name                     NTP_Servers\n",
              "1  as3border1  lab.local   ['18.18.18.18', '23.23.23.23']\n",
              "2  as3border2  lab.local   ['18.18.18.18', '23.23.23.23']\n",
              "3  as1border2  lab.local   ['18.18.18.18', '23.23.23.23']\n",
              "4  as2border1  lab.local   ['18.18.18.18', '23.23.23.23']"
            ]
          },
          "metadata": {
            "tags": []
          },
          "execution_count": 12
        }
      ]
    },
    {
      "cell_type": "markdown",
      "metadata": {
        "id": "qMgeps_ffDev",
        "colab_type": "text"
      },
      "source": [
        "#### Interface properties\n",
        "To retrieve information about interfaces present and the properties of them, use the **interfaceProperties** question"
      ]
    },
    {
      "cell_type": "code",
      "metadata": {
        "id": "-N4FqOsxfDe0",
        "colab_type": "code",
        "colab": {}
      },
      "source": [
        "interface_properties = bfq.interfaceProperties(nodes=\"/border/\", properties=\"Interface_Type|Bandwidth|VRF|Primary_Address\").answer().frame()"
      ],
      "execution_count": 0,
      "outputs": []
    },
    {
      "cell_type": "markdown",
      "metadata": {
        "id": "LHeh_kZVfDe7",
        "colab_type": "text"
      },
      "source": [
        "If you wanted to just find interfaces with the primary ip address in <b>10.12.0.0/16</b>, you can filter the results as shown below.\n",
        "\n",
        "**na=False** is required in order to ignore interfaces without any configured IP addresses, such as ethernet switchports.\n"
      ]
    },
    {
      "cell_type": "code",
      "metadata": {
        "id": "fAC6ODi_fDfB",
        "colab_type": "code",
        "colab": {},
        "outputId": "e7bbf592-0eed-4b00-ad78-0fd25fda4102"
      },
      "source": [
        "interface_properties[interface_properties['Primary_Address'].str.match(\"10.12\", na=False)]"
      ],
      "execution_count": 0,
      "outputs": [
        {
          "output_type": "execute_result",
          "data": {
            "text/html": [
              "<div>\n",
              "<style scoped>\n",
              "    .dataframe tbody tr th:only-of-type {\n",
              "        vertical-align: middle;\n",
              "    }\n",
              "\n",
              "    .dataframe tbody tr th {\n",
              "        vertical-align: top;\n",
              "    }\n",
              "\n",
              "    .dataframe thead th {\n",
              "        text-align: right;\n",
              "    }\n",
              "</style>\n",
              "<table border=\"1\" class=\"dataframe tex2jax_ignore\">\n",
              "  <thead>\n",
              "    <tr style=\"text-align: right;\">\n",
              "      <th></th>\n",
              "      <th>Interface</th>\n",
              "      <th>Bandwidth</th>\n",
              "      <th>Primary_Address</th>\n",
              "      <th>VRF</th>\n",
              "    </tr>\n",
              "  </thead>\n",
              "  <tbody>\n",
              "    <tr>\n",
              "      <th>24</th>\n",
              "      <td>as1border1[GigabitEthernet1/0]</td>\n",
              "      <td>1e+09</td>\n",
              "      <td>10.12.11.1/24</td>\n",
              "      <td>default</td>\n",
              "    </tr>\n",
              "    <tr>\n",
              "      <th>26</th>\n",
              "      <td>as2border1[GigabitEthernet0/0]</td>\n",
              "      <td>1e+09</td>\n",
              "      <td>10.12.11.2/24</td>\n",
              "      <td>default</td>\n",
              "    </tr>\n",
              "  </tbody>\n",
              "</table>\n",
              "</div>"
            ],
            "text/plain": [
              "                         Interface Bandwidth Primary_Address      VRF\n",
              "24  as1border1[GigabitEthernet1/0]  1e+09     10.12.11.1/24   default\n",
              "26  as2border1[GigabitEthernet0/0]  1e+09     10.12.11.2/24   default"
            ]
          },
          "metadata": {
            "tags": []
          },
          "execution_count": 14
        }
      ]
    },
    {
      "cell_type": "markdown",
      "metadata": {
        "id": "VWPvyPItfDfT",
        "colab_type": "text"
      },
      "source": [
        "Similar questions extract properties of other entities (e.g., `bgpProcessConfiguration()` extracts properties of BGP processes)."
      ]
    },
    {
      "cell_type": "markdown",
      "metadata": {
        "id": "NeT7XTjbfDfU",
        "colab_type": "text"
      },
      "source": [
        "***\n",
        "### Inspecting referential integrity of configuration structures\n",
        "Network configuratons define and reference named structures like route maps, access control lists (ACLs), prefix lists, etc. Two common indicators of buggy configurations include references to structures that are not defined anywhere (which can lead to disastrous consequences on some platforms) or defined structures that are not referenced anywhere. Batfish makes it easy to flag such instances because it understand the underlying semantics of configuration."
      ]
    },
    {
      "cell_type": "code",
      "metadata": {
        "id": "5Nsk81hVfDfX",
        "colab_type": "code",
        "colab": {},
        "outputId": "d72dbc84-5ca8-4ae0-b359-d24441a6da3a"
      },
      "source": [
        "# List references to undefined structures\n",
        "bfq.undefinedReferences().answer().frame()"
      ],
      "execution_count": 0,
      "outputs": [
        {
          "output_type": "execute_result",
          "data": {
            "text/html": [
              "<div>\n",
              "<style scoped>\n",
              "    .dataframe tbody tr th:only-of-type {\n",
              "        vertical-align: middle;\n",
              "    }\n",
              "\n",
              "    .dataframe tbody tr th {\n",
              "        vertical-align: top;\n",
              "    }\n",
              "\n",
              "    .dataframe thead th {\n",
              "        text-align: right;\n",
              "    }\n",
              "</style>\n",
              "<table border=\"1\" class=\"dataframe tex2jax_ignore\">\n",
              "  <thead>\n",
              "    <tr style=\"text-align: right;\">\n",
              "      <th></th>\n",
              "      <th>File_Name</th>\n",
              "      <th>Struct_Type</th>\n",
              "      <th>Ref_Name</th>\n",
              "      <th>Context</th>\n",
              "      <th>Lines</th>\n",
              "    </tr>\n",
              "  </thead>\n",
              "  <tbody>\n",
              "    <tr>\n",
              "      <th>0</th>\n",
              "      <td>configs/as2core2.cfg</td>\n",
              "      <td>route-map</td>\n",
              "      <td>filter-bogons</td>\n",
              "      <td>bgp inbound route-map</td>\n",
              "      <td>configs/as2core2.cfg:[109]</td>\n",
              "    </tr>\n",
              "  </tbody>\n",
              "</table>\n",
              "</div>"
            ],
            "text/plain": [
              "              File_Name Struct_Type       Ref_Name                Context  \\\n",
              "0  configs/as2core2.cfg  route-map   filter-bogons  bgp inbound route-map   \n",
              "\n",
              "                        Lines  \n",
              "0  configs/as2core2.cfg:[109]  "
            ]
          },
          "metadata": {
            "tags": []
          },
          "execution_count": 15
        }
      ]
    },
    {
      "cell_type": "markdown",
      "metadata": {
        "id": "SvsuMvZefDfe",
        "colab_type": "text"
      },
      "source": [
        "The question for listing any unused structures is `unusedStructures()`."
      ]
    },
    {
      "cell_type": "markdown",
      "metadata": {
        "id": "z0DthzXrfDff",
        "colab_type": "text"
      },
      "source": [
        "***\n",
        "### Inspecting physical and logical topologies\n",
        "Nodes in a network form multiple types of topologies that are defined by edges at layer 1 or layer 3 (IP layer) or by different types of routing protocols such as BGP or OSPF. The `edges()` question in Batfish returns these different types of edges. Its `edgeType` parameter specifies the type of edges to retrieve, and the `nodes` and `remoteNodes` parameters can be used to limit the returned edges to a subset of the nodes."
      ]
    },
    {
      "cell_type": "code",
      "metadata": {
        "id": "bE5-RRONfDfg",
        "colab_type": "code",
        "colab": {},
        "outputId": "4fec1405-e871-42b4-c5b8-56382e7dcd05"
      },
      "source": [
        "# Get edges of type layer 3 (IP layer)\n",
        "bfq.edges(nodes=\"as1border1\", edgeType=\"layer3\").answer().frame()"
      ],
      "execution_count": 0,
      "outputs": [
        {
          "output_type": "execute_result",
          "data": {
            "text/html": [
              "<div>\n",
              "<style scoped>\n",
              "    .dataframe tbody tr th:only-of-type {\n",
              "        vertical-align: middle;\n",
              "    }\n",
              "\n",
              "    .dataframe tbody tr th {\n",
              "        vertical-align: top;\n",
              "    }\n",
              "\n",
              "    .dataframe thead th {\n",
              "        text-align: right;\n",
              "    }\n",
              "</style>\n",
              "<table border=\"1\" class=\"dataframe tex2jax_ignore\">\n",
              "  <thead>\n",
              "    <tr style=\"text-align: right;\">\n",
              "      <th></th>\n",
              "      <th>Interface</th>\n",
              "      <th>IPs</th>\n",
              "      <th>Remote_Interface</th>\n",
              "      <th>Remote_IPs</th>\n",
              "    </tr>\n",
              "  </thead>\n",
              "  <tbody>\n",
              "    <tr>\n",
              "      <th>0</th>\n",
              "      <td>as1border1[GigabitEthernet0/0]</td>\n",
              "      <td>['1.0.1.1']</td>\n",
              "      <td>as1core1[GigabitEthernet1/0]</td>\n",
              "      <td>['1.0.1.2']</td>\n",
              "    </tr>\n",
              "    <tr>\n",
              "      <th>1</th>\n",
              "      <td>as1border1[GigabitEthernet1/0]</td>\n",
              "      <td>['10.12.11.1']</td>\n",
              "      <td>as2border1[GigabitEthernet0/0]</td>\n",
              "      <td>['10.12.11.2']</td>\n",
              "    </tr>\n",
              "  </tbody>\n",
              "</table>\n",
              "</div>"
            ],
            "text/plain": [
              "                        Interface             IPs  \\\n",
              "0  as1border1[GigabitEthernet0/0]  ['1.0.1.1']      \n",
              "1  as1border1[GigabitEthernet1/0]  ['10.12.11.1']   \n",
              "\n",
              "                 Remote_Interface      Remote_IPs  \n",
              "0  as1core1[GigabitEthernet1/0]    ['1.0.1.2']     \n",
              "1  as2border1[GigabitEthernet0/0]  ['10.12.11.2']  "
            ]
          },
          "metadata": {
            "tags": []
          },
          "execution_count": 16
        }
      ]
    },
    {
      "cell_type": "markdown",
      "metadata": {
        "id": "PRutbrNHfDfl",
        "colab_type": "text"
      },
      "source": [
        "***\n",
        "### Exploring Routing and Forwarding\n",
        "Batfish computes routing and forwarding tables (aka RIBs and FIBs) of the network from snapshot data itself. These tables can be examined to understand the routing and forwarding behavior of the network. \n",
        "\n",
        "One way to examine this behavior is using a virtual traceroute. Unlike the live-network traceroute, Batfish shows all possible flow paths in the network and identifies routing entries that cause each hop to be taken."
      ]
    },
    {
      "cell_type": "code",
      "metadata": {
        "id": "6DSIXe6YfDfm",
        "colab_type": "code",
        "colab": {},
        "outputId": "e777e318-95f8-48b9-ef43-a136e93dff4f"
      },
      "source": [
        "# Do a traceroute from host1 to 1.0.2.2\n",
        "tr_frame = bfq.traceroute(startLocation=\"host1\", headers=HeaderConstraints(dstIps=\"1.0.2.2\")).answer().frame()\n",
        "\n",
        "# Display results using customizations to handle large string values\n",
        "\n",
        "show(tr_frame)"
      ],
      "execution_count": 0,
      "outputs": [
        {
          "output_type": "display_data",
          "data": {
            "text/html": [
              "<style  type=\"text/css\" >\n",
              "    #T_pybfstylerow0_col0 {\n",
              "            text-align:  left;\n",
              "            vertical-align:  top;\n",
              "        }    #T_pybfstylerow0_col1 {\n",
              "            text-align:  left;\n",
              "            vertical-align:  top;\n",
              "        }    #T_pybfstylerow0_col2 {\n",
              "            text-align:  left;\n",
              "            vertical-align:  top;\n",
              "        }</style><table id=\"T_pybfstyle\"  class=\"tex2jax_ignore\"><thead>    <tr>        <th class=\"blank level0\" ></th>        <th class=\"col_heading level0 col0\" >Flow</th>        <th class=\"col_heading level0 col1\" >Traces</th>        <th class=\"col_heading level0 col2\" >TraceCount</th>    </tr></thead><tbody>\n",
              "                <tr>\n",
              "                        <th id=\"T_pybfstylelevel0_row0\" class=\"row_heading level0 row0\" >0</th>\n",
              "                        <td id=\"T_pybfstylerow0_col0\" class=\"data row0 col0\" >Start Location: host1<br>Src IP: 2.128.0.101<br>Src Port: 49152<br>Dst IP: 1.0.2.2<br>Dst Port: 33434<br>IP Protocol: UDP</td>\n",
              "                        <td id=\"T_pybfstylerow0_col1\" class=\"data row0 col1\" ><span style=\"color:#019612; text-weight:bold;\">ACCEPTED</span><br><strong>1</strong>. node: host1<br>&nbsp;&nbsp;ORIGINATED(default)<br>&nbsp;&nbsp;FORWARDED(Routes: static [Network: 0.0.0.0/0, Next Hop IP:2.128.0.1])<br>&nbsp;&nbsp;PERMITTED(filter::OUTPUT (EGRESS_FILTER))<br>&nbsp;&nbsp;TRANSMITTED(eth0)<br><strong>2</strong>. node: as2dept1<br>&nbsp;&nbsp;RECEIVED(GigabitEthernet2/0)<br>&nbsp;&nbsp;PERMITTED(RESTRICT_HOST_TRAFFIC_IN (INGRESS_FILTER))<br>&nbsp;&nbsp;FORWARDED(Routes: bgp [Network: 1.0.2.0/24, Next Hop IP:2.34.101.3],bgp [Network: 1.0.2.0/24, Next Hop IP:2.34.201.3])<br>&nbsp;&nbsp;TRANSMITTED(GigabitEthernet0/0)<br><strong>3</strong>. node: as2dist1<br>&nbsp;&nbsp;RECEIVED(GigabitEthernet2/0)<br>&nbsp;&nbsp;FORWARDED(Routes: ibgp [Network: 1.0.2.0/24, Next Hop IP:10.12.11.1])<br>&nbsp;&nbsp;TRANSMITTED(GigabitEthernet0/0)<br><strong>4</strong>. node: as2core1<br>&nbsp;&nbsp;RECEIVED(GigabitEthernet2/0)<br>&nbsp;&nbsp;PERMITTED(blocktelnet (INGRESS_FILTER))<br>&nbsp;&nbsp;FORWARDED(Routes: ibgp [Network: 1.0.2.0/24, Next Hop IP:10.12.11.1])<br>&nbsp;&nbsp;TRANSMITTED(GigabitEthernet0/0)<br><strong>5</strong>. node: as2border1<br>&nbsp;&nbsp;RECEIVED(GigabitEthernet1/0)<br>&nbsp;&nbsp;FORWARDED(Routes: bgp [Network: 1.0.2.0/24, Next Hop IP:10.12.11.1])<br>&nbsp;&nbsp;PERMITTED(INSIDE_TO_AS1 (EGRESS_FILTER))<br>&nbsp;&nbsp;TRANSMITTED(GigabitEthernet0/0)<br><strong>6</strong>. node: as1border1<br>&nbsp;&nbsp;RECEIVED(GigabitEthernet1/0)<br>&nbsp;&nbsp;FORWARDED(Routes: ospf [Network: 1.0.2.0/24, Next Hop IP:1.0.1.2])<br>&nbsp;&nbsp;TRANSMITTED(GigabitEthernet0/0)<br><strong>7</strong>. node: as1core1<br>&nbsp;&nbsp;RECEIVED(GigabitEthernet1/0)<br>&nbsp;&nbsp;ACCEPTED(InboundStep)<br><br><span style=\"color:#019612; text-weight:bold;\">ACCEPTED</span><br><strong>1</strong>. node: host1<br>&nbsp;&nbsp;ORIGINATED(default)<br>&nbsp;&nbsp;FORWARDED(Routes: static [Network: 0.0.0.0/0, Next Hop IP:2.128.0.1])<br>&nbsp;&nbsp;PERMITTED(filter::OUTPUT (EGRESS_FILTER))<br>&nbsp;&nbsp;TRANSMITTED(eth0)<br><strong>2</strong>. node: as2dept1<br>&nbsp;&nbsp;RECEIVED(GigabitEthernet2/0)<br>&nbsp;&nbsp;PERMITTED(RESTRICT_HOST_TRAFFIC_IN (INGRESS_FILTER))<br>&nbsp;&nbsp;FORWARDED(Routes: bgp [Network: 1.0.2.0/24, Next Hop IP:2.34.101.3],bgp [Network: 1.0.2.0/24, Next Hop IP:2.34.201.3])<br>&nbsp;&nbsp;TRANSMITTED(GigabitEthernet0/0)<br><strong>3</strong>. node: as2dist1<br>&nbsp;&nbsp;RECEIVED(GigabitEthernet2/0)<br>&nbsp;&nbsp;FORWARDED(Routes: ibgp [Network: 1.0.2.0/24, Next Hop IP:10.12.11.1])<br>&nbsp;&nbsp;TRANSMITTED(GigabitEthernet1/0)<br><strong>4</strong>. node: as2core2<br>&nbsp;&nbsp;RECEIVED(GigabitEthernet3/0)<br>&nbsp;&nbsp;FORWARDED(Routes: ibgp [Network: 1.0.2.0/24, Next Hop IP:10.12.11.1])<br>&nbsp;&nbsp;TRANSMITTED(GigabitEthernet1/0)<br><strong>5</strong>. node: as2border1<br>&nbsp;&nbsp;RECEIVED(GigabitEthernet2/0)<br>&nbsp;&nbsp;FORWARDED(Routes: bgp [Network: 1.0.2.0/24, Next Hop IP:10.12.11.1])<br>&nbsp;&nbsp;PERMITTED(INSIDE_TO_AS1 (EGRESS_FILTER))<br>&nbsp;&nbsp;TRANSMITTED(GigabitEthernet0/0)<br><strong>6</strong>. node: as1border1<br>&nbsp;&nbsp;RECEIVED(GigabitEthernet1/0)<br>&nbsp;&nbsp;FORWARDED(Routes: ospf [Network: 1.0.2.0/24, Next Hop IP:1.0.1.2])<br>&nbsp;&nbsp;TRANSMITTED(GigabitEthernet0/0)<br><strong>7</strong>. node: as1core1<br>&nbsp;&nbsp;RECEIVED(GigabitEthernet1/0)<br>&nbsp;&nbsp;ACCEPTED(InboundStep)<br><br><span style=\"color:#019612; text-weight:bold;\">ACCEPTED</span><br><strong>1</strong>. node: host1<br>&nbsp;&nbsp;ORIGINATED(default)<br>&nbsp;&nbsp;FORWARDED(Routes: static [Network: 0.0.0.0/0, Next Hop IP:2.128.0.1])<br>&nbsp;&nbsp;PERMITTED(filter::OUTPUT (EGRESS_FILTER))<br>&nbsp;&nbsp;TRANSMITTED(eth0)<br><strong>2</strong>. node: as2dept1<br>&nbsp;&nbsp;RECEIVED(GigabitEthernet2/0)<br>&nbsp;&nbsp;PERMITTED(RESTRICT_HOST_TRAFFIC_IN (INGRESS_FILTER))<br>&nbsp;&nbsp;FORWARDED(Routes: bgp [Network: 1.0.2.0/24, Next Hop IP:2.34.101.3],bgp [Network: 1.0.2.0/24, Next Hop IP:2.34.201.3])<br>&nbsp;&nbsp;TRANSMITTED(GigabitEthernet1/0)<br><strong>3</strong>. node: as2dist2<br>&nbsp;&nbsp;RECEIVED(GigabitEthernet2/0)<br>&nbsp;&nbsp;FORWARDED(Routes: ibgp [Network: 1.0.2.0/24, Next Hop IP:10.12.11.1])<br>&nbsp;&nbsp;TRANSMITTED(GigabitEthernet0/0)<br><strong>4</strong>. node: as2core2<br>&nbsp;&nbsp;RECEIVED(GigabitEthernet2/0)<br>&nbsp;&nbsp;FORWARDED(Routes: ibgp [Network: 1.0.2.0/24, Next Hop IP:10.12.11.1])<br>&nbsp;&nbsp;TRANSMITTED(GigabitEthernet1/0)<br><strong>5</strong>. node: as2border1<br>&nbsp;&nbsp;RECEIVED(GigabitEthernet2/0)<br>&nbsp;&nbsp;FORWARDED(Routes: bgp [Network: 1.0.2.0/24, Next Hop IP:10.12.11.1])<br>&nbsp;&nbsp;PERMITTED(INSIDE_TO_AS1 (EGRESS_FILTER))<br>&nbsp;&nbsp;TRANSMITTED(GigabitEthernet0/0)<br><strong>6</strong>. node: as1border1<br>&nbsp;&nbsp;RECEIVED(GigabitEthernet1/0)<br>&nbsp;&nbsp;FORWARDED(Routes: ospf [Network: 1.0.2.0/24, Next Hop IP:1.0.1.2])<br>&nbsp;&nbsp;TRANSMITTED(GigabitEthernet0/0)<br><strong>7</strong>. node: as1core1<br>&nbsp;&nbsp;RECEIVED(GigabitEthernet1/0)<br>&nbsp;&nbsp;ACCEPTED(InboundStep)<br><br><span style=\"color:#019612; text-weight:bold;\">ACCEPTED</span><br><strong>1</strong>. node: host1<br>&nbsp;&nbsp;ORIGINATED(default)<br>&nbsp;&nbsp;FORWARDED(Routes: static [Network: 0.0.0.0/0, Next Hop IP:2.128.0.1])<br>&nbsp;&nbsp;PERMITTED(filter::OUTPUT (EGRESS_FILTER))<br>&nbsp;&nbsp;TRANSMITTED(eth0)<br><strong>2</strong>. node: as2dept1<br>&nbsp;&nbsp;RECEIVED(GigabitEthernet2/0)<br>&nbsp;&nbsp;PERMITTED(RESTRICT_HOST_TRAFFIC_IN (INGRESS_FILTER))<br>&nbsp;&nbsp;FORWARDED(Routes: bgp [Network: 1.0.2.0/24, Next Hop IP:2.34.101.3],bgp [Network: 1.0.2.0/24, Next Hop IP:2.34.201.3])<br>&nbsp;&nbsp;TRANSMITTED(GigabitEthernet1/0)<br><strong>3</strong>. node: as2dist2<br>&nbsp;&nbsp;RECEIVED(GigabitEthernet2/0)<br>&nbsp;&nbsp;FORWARDED(Routes: ibgp [Network: 1.0.2.0/24, Next Hop IP:10.12.11.1])<br>&nbsp;&nbsp;TRANSMITTED(GigabitEthernet1/0)<br><strong>4</strong>. node: as2core1<br>&nbsp;&nbsp;RECEIVED(GigabitEthernet3/0)<br>&nbsp;&nbsp;PERMITTED(blocktelnet (INGRESS_FILTER))<br>&nbsp;&nbsp;FORWARDED(Routes: ibgp [Network: 1.0.2.0/24, Next Hop IP:10.12.11.1])<br>&nbsp;&nbsp;TRANSMITTED(GigabitEthernet0/0)<br><strong>5</strong>. node: as2border1<br>&nbsp;&nbsp;RECEIVED(GigabitEthernet1/0)<br>&nbsp;&nbsp;FORWARDED(Routes: bgp [Network: 1.0.2.0/24, Next Hop IP:10.12.11.1])<br>&nbsp;&nbsp;PERMITTED(INSIDE_TO_AS1 (EGRESS_FILTER))<br>&nbsp;&nbsp;TRANSMITTED(GigabitEthernet0/0)<br><strong>6</strong>. node: as1border1<br>&nbsp;&nbsp;RECEIVED(GigabitEthernet1/0)<br>&nbsp;&nbsp;FORWARDED(Routes: ospf [Network: 1.0.2.0/24, Next Hop IP:1.0.1.2])<br>&nbsp;&nbsp;TRANSMITTED(GigabitEthernet0/0)<br><strong>7</strong>. node: as1core1<br>&nbsp;&nbsp;RECEIVED(GigabitEthernet1/0)<br>&nbsp;&nbsp;ACCEPTED(InboundStep)</td>\n",
              "                        <td id=\"T_pybfstylerow0_col2\" class=\"data row0 col2\" >4</td>\n",
              "            </tr>\n",
              "    </tbody></table>"
            ],
            "text/plain": [
              "                                                            Flow  \\\n",
              "0  start=host1 [2.128.0.101:49152->1.0.2.2:33434 UDP length=512]   \n",
              "\n",
              "                                                                                                                                                                                                                                                                                                                                                                                                                                                                                                                                                                                                                                                                                                                                                                                                                                                                                                                                                                                                                                                                                                                                                                                                                                                                                                                                                                                                                                                                                                                                                                                                                                                                                                                                                                                                                                                                                                                                                                                                                                                                                                                                                                                                                                                                                                                                                                                                                                                                                                                                                                                                                                                                                                                                                                                                                                                                                                                                                                                                                                                                                                                                                                                                                                                                                                                                                                                                                                                                                                                                                                                                                                                                                                                                                                                                                                                                                                                                                                                                                                                                                                                                                                                                                                                                                                                                                                                       Traces  \\\n",
              "0  [((ORIGINATED(default), FORWARDED(Routes: static [Network: 0.0.0.0/0, Next Hop IP:2.128.0.1]), PERMITTED(filter::OUTPUT (EGRESS_FILTER)), TRANSMITTED(eth0)), (RECEIVED(GigabitEthernet2/0), PERMITTED(RESTRICT_HOST_TRAFFIC_IN (INGRESS_FILTER)), FORWARDED(Routes: bgp [Network: 1.0.2.0/24, Next Hop IP:2.34.101.3],bgp [Network: 1.0.2.0/24, Next Hop IP:2.34.201.3]), TRANSMITTED(GigabitEthernet0/0)), (RECEIVED(GigabitEthernet2/0), FORWARDED(Routes: ibgp [Network: 1.0.2.0/24, Next Hop IP:10.12.11.1]), TRANSMITTED(GigabitEthernet0/0)), (RECEIVED(GigabitEthernet2/0), PERMITTED(blocktelnet (INGRESS_FILTER)), FORWARDED(Routes: ibgp [Network: 1.0.2.0/24, Next Hop IP:10.12.11.1]), TRANSMITTED(GigabitEthernet0/0)), (RECEIVED(GigabitEthernet1/0), FORWARDED(Routes: bgp [Network: 1.0.2.0/24, Next Hop IP:10.12.11.1]), PERMITTED(INSIDE_TO_AS1 (EGRESS_FILTER)), TRANSMITTED(GigabitEthernet0/0)), (RECEIVED(GigabitEthernet1/0), FORWARDED(Routes: ospf [Network: 1.0.2.0/24, Next Hop IP:1.0.1.2]), TRANSMITTED(GigabitEthernet0/0)), (RECEIVED(GigabitEthernet1/0), ACCEPTED(InboundStep))), ((ORIGINATED(default), FORWARDED(Routes: static [Network: 0.0.0.0/0, Next Hop IP:2.128.0.1]), PERMITTED(filter::OUTPUT (EGRESS_FILTER)), TRANSMITTED(eth0)), (RECEIVED(GigabitEthernet2/0), PERMITTED(RESTRICT_HOST_TRAFFIC_IN (INGRESS_FILTER)), FORWARDED(Routes: bgp [Network: 1.0.2.0/24, Next Hop IP:2.34.101.3],bgp [Network: 1.0.2.0/24, Next Hop IP:2.34.201.3]), TRANSMITTED(GigabitEthernet0/0)), (RECEIVED(GigabitEthernet2/0), FORWARDED(Routes: ibgp [Network: 1.0.2.0/24, Next Hop IP:10.12.11.1]), TRANSMITTED(GigabitEthernet1/0)), (RECEIVED(GigabitEthernet3/0), FORWARDED(Routes: ibgp [Network: 1.0.2.0/24, Next Hop IP:10.12.11.1]), TRANSMITTED(GigabitEthernet1/0)), (RECEIVED(GigabitEthernet2/0), FORWARDED(Routes: bgp [Network: 1.0.2.0/24, Next Hop IP:10.12.11.1]), PERMITTED(INSIDE_TO_AS1 (EGRESS_FILTER)), TRANSMITTED(GigabitEthernet0/0)), (RECEIVED(GigabitEthernet1/0), FORWARDED(Routes: ospf [Network: 1.0.2.0/24, Next Hop IP:1.0.1.2]), TRANSMITTED(GigabitEthernet0/0)), (RECEIVED(GigabitEthernet1/0), ACCEPTED(InboundStep))), ((ORIGINATED(default), FORWARDED(Routes: static [Network: 0.0.0.0/0, Next Hop IP:2.128.0.1]), PERMITTED(filter::OUTPUT (EGRESS_FILTER)), TRANSMITTED(eth0)), (RECEIVED(GigabitEthernet2/0), PERMITTED(RESTRICT_HOST_TRAFFIC_IN (INGRESS_FILTER)), FORWARDED(Routes: bgp [Network: 1.0.2.0/24, Next Hop IP:2.34.101.3],bgp [Network: 1.0.2.0/24, Next Hop IP:2.34.201.3]), TRANSMITTED(GigabitEthernet1/0)), (RECEIVED(GigabitEthernet2/0), FORWARDED(Routes: ibgp [Network: 1.0.2.0/24, Next Hop IP:10.12.11.1]), TRANSMITTED(GigabitEthernet0/0)), (RECEIVED(GigabitEthernet2/0), FORWARDED(Routes: ibgp [Network: 1.0.2.0/24, Next Hop IP:10.12.11.1]), TRANSMITTED(GigabitEthernet1/0)), (RECEIVED(GigabitEthernet2/0), FORWARDED(Routes: bgp [Network: 1.0.2.0/24, Next Hop IP:10.12.11.1]), PERMITTED(INSIDE_TO_AS1 (EGRESS_FILTER)), TRANSMITTED(GigabitEthernet0/0)), (RECEIVED(GigabitEthernet1/0), FORWARDED(Routes: ospf [Network: 1.0.2.0/24, Next Hop IP:1.0.1.2]), TRANSMITTED(GigabitEthernet0/0)), (RECEIVED(GigabitEthernet1/0), ACCEPTED(InboundStep))), ((ORIGINATED(default), FORWARDED(Routes: static [Network: 0.0.0.0/0, Next Hop IP:2.128.0.1]), PERMITTED(filter::OUTPUT (EGRESS_FILTER)), TRANSMITTED(eth0)), (RECEIVED(GigabitEthernet2/0), PERMITTED(RESTRICT_HOST_TRAFFIC_IN (INGRESS_FILTER)), FORWARDED(Routes: bgp [Network: 1.0.2.0/24, Next Hop IP:2.34.101.3],bgp [Network: 1.0.2.0/24, Next Hop IP:2.34.201.3]), TRANSMITTED(GigabitEthernet1/0)), (RECEIVED(GigabitEthernet2/0), FORWARDED(Routes: ibgp [Network: 1.0.2.0/24, Next Hop IP:10.12.11.1]), TRANSMITTED(GigabitEthernet1/0)), (RECEIVED(GigabitEthernet3/0), PERMITTED(blocktelnet (INGRESS_FILTER)), FORWARDED(Routes: ibgp [Network: 1.0.2.0/24, Next Hop IP:10.12.11.1]), TRANSMITTED(GigabitEthernet0/0)), (RECEIVED(GigabitEthernet1/0), FORWARDED(Routes: bgp [Network: 1.0.2.0/24, Next Hop IP:10.12.11.1]), PERMITTED(INSIDE_TO_AS1 (EGRESS_FILTER)), TRANSMITTED(GigabitEthernet0/0)), (RECEIVED(GigabitEthernet1/0), FORWARDED(Routes: ospf [Network: 1.0.2.0/24, Next Hop IP:1.0.1.2]), TRANSMITTED(GigabitEthernet0/0)), (RECEIVED(GigabitEthernet1/0), ACCEPTED(InboundStep)))]   \n",
              "\n",
              "  TraceCount  \n",
              "0  4          "
            ]
          },
          "metadata": {
            "tags": []
          }
        }
      ]
    },
    {
      "cell_type": "markdown",
      "metadata": {
        "id": "KZRXZr-kfDfs",
        "colab_type": "text"
      },
      "source": [
        "Another way to understand the routing behavior in detail is to examine the routing tables directly. "
      ]
    },
    {
      "cell_type": "code",
      "metadata": {
        "id": "Kbkg_80lfDft",
        "colab_type": "code",
        "colab": {}
      },
      "source": [
        "# Fetch the routing table of all VRFs on all nodes in the snapshot\n",
        "routes_df = bfq.routes().answer().frame()"
      ],
      "execution_count": 0,
      "outputs": []
    },
    {
      "cell_type": "markdown",
      "metadata": {
        "id": "07BhB7EHfDfv",
        "colab_type": "text"
      },
      "source": [
        "(For a large network, the first time you run a question that needs the dataplane, fetching the answer can take a few minutes. Subsequent questions are quick as the generated dataplane is saved by Batfish.)\n",
        "\n",
        "As used above, the routes() question can generate a lot of results. You may restrict the output using parameters to the question---to restrict the results to **border** routers, use **nodes = \"\\.\\*border\\.\\*\"**. Or, you can use pandas for client-side filtering as below."
      ]
    },
    {
      "cell_type": "code",
      "metadata": {
        "id": "uUFf8PJXfDfw",
        "colab_type": "code",
        "colab": {},
        "outputId": "9f365723-16e0-4681-be9a-e331482e18e8"
      },
      "source": [
        "# View all routes for the network 90.90.90.0/24 with an AdminDistance of 0\n",
        "routes_df[(routes_df['Network'] == \"90.90.90.0/24\") & (routes_df[\"Admin_Distance\"] == 0)]"
      ],
      "execution_count": 0,
      "outputs": [
        {
          "output_type": "execute_result",
          "data": {
            "text/html": [
              "<div>\n",
              "<style scoped>\n",
              "    .dataframe tbody tr th:only-of-type {\n",
              "        vertical-align: middle;\n",
              "    }\n",
              "\n",
              "    .dataframe tbody tr th {\n",
              "        vertical-align: top;\n",
              "    }\n",
              "\n",
              "    .dataframe thead th {\n",
              "        text-align: right;\n",
              "    }\n",
              "</style>\n",
              "<table border=\"1\" class=\"dataframe tex2jax_ignore\">\n",
              "  <thead>\n",
              "    <tr style=\"text-align: right;\">\n",
              "      <th></th>\n",
              "      <th>Node</th>\n",
              "      <th>VRF</th>\n",
              "      <th>Network</th>\n",
              "      <th>Next_Hop</th>\n",
              "      <th>Next_Hop_IP</th>\n",
              "      <th>Next_Hop_Interface</th>\n",
              "      <th>Protocol</th>\n",
              "      <th>Metric</th>\n",
              "      <th>Admin_Distance</th>\n",
              "      <th>Tag</th>\n",
              "    </tr>\n",
              "  </thead>\n",
              "  <tbody>\n",
              "    <tr>\n",
              "      <th>273</th>\n",
              "      <td>as3core1</td>\n",
              "      <td>default</td>\n",
              "      <td>90.90.90.0/24</td>\n",
              "      <td>None</td>\n",
              "      <td>AUTO/NONE(-1l)</td>\n",
              "      <td>GigabitEthernet3/0</td>\n",
              "      <td>connected</td>\n",
              "      <td>0</td>\n",
              "      <td>0</td>\n",
              "      <td>None</td>\n",
              "    </tr>\n",
              "    <tr>\n",
              "      <th>318</th>\n",
              "      <td>as3core1</td>\n",
              "      <td>default</td>\n",
              "      <td>90.90.90.0/24</td>\n",
              "      <td>None</td>\n",
              "      <td>AUTO/NONE(-1l)</td>\n",
              "      <td>GigabitEthernet2/0</td>\n",
              "      <td>connected</td>\n",
              "      <td>0</td>\n",
              "      <td>0</td>\n",
              "      <td>None</td>\n",
              "    </tr>\n",
              "  </tbody>\n",
              "</table>\n",
              "</div>"
            ],
            "text/plain": [
              "         Node      VRF        Network Next_Hop     Next_Hop_IP  \\\n",
              "273  as3core1  default  90.90.90.0/24  None     AUTO/NONE(-1l)   \n",
              "318  as3core1  default  90.90.90.0/24  None     AUTO/NONE(-1l)   \n",
              "\n",
              "     Next_Hop_Interface   Protocol Metric Admin_Distance   Tag  \n",
              "273  GigabitEthernet3/0  connected  0      0              None  \n",
              "318  GigabitEthernet2/0  connected  0      0              None  "
            ]
          },
          "metadata": {
            "tags": []
          },
          "execution_count": 19
        }
      ]
    },
    {
      "cell_type": "markdown",
      "metadata": {
        "id": "tmPQcjnLfDf0",
        "colab_type": "text"
      },
      "source": [
        "***\n",
        "That's it for now! Feel free to explore further by adding cells and running other questions, or play with [other notebooks](https://github.com/batfish/pybatfish/tree/master/jupyter_notebooks)."
      ]
    }
  ]
}